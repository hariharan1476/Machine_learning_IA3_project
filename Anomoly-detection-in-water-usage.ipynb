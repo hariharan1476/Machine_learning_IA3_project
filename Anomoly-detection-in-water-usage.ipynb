{
 "cells": [
  {
   "cell_type": "markdown",
   "metadata": {},
   "source": [
    "## Anomaly Detection in Water Usage\n",
    "\n",
    "**Objective:** Detect anomalies or unusual spikes in water consumption in a particular year, industry, or county.\n",
    "\n",
    "**Why:** Anomalies in water consumption can indicate either a reporting error or an event (e.g., drought, industry change) worth investigating."
   ]
  },
  {
   "cell_type": "code",
   "execution_count": 6,
   "metadata": {},
   "outputs": [
    {
     "name": "stderr",
     "output_type": "stream",
     "text": [
      "c:\\Users\\bharath kumar\\AppData\\Local\\Programs\\Python\\Python311\\Lib\\site-packages\\tqdm\\auto.py:21: TqdmWarning: IProgress not found. Please update jupyter and ipywidgets. See https://ipywidgets.readthedocs.io/en/stable/user_install.html\n",
      "  from .autonotebook import tqdm as notebook_tqdm\n"
     ]
    }
   ],
   "source": [
    "import pandas as pd\n",
    "import gradio as gr\n",
    "from sklearn.ensemble import IsolationForest\n",
    "from sklearn.preprocessing import StandardScaler\n",
    "\n",
    "# Load the dataset\n",
    "data = pd.read_csv('water_use_data_2013_to_2022.csv')\n",
    "\n",
    "# Select relevant features for anomaly detection\n",
    "features = ['gallons_from_great_lakes', 'gallons_from_groundwater', 'gallons_from_inland_surface', 'total_gallons_all_sources']\n",
    "X = data[features]\n",
    "\n",
    "# Handle missing values (optional, depends on your data)\n",
    "X = X.fillna(0)\n",
    "\n",
    "# Normalize the data\n",
    "scaler = StandardScaler()\n",
    "X_scaled = scaler.fit_transform(X)\n"
   ]
  },
  {
   "cell_type": "markdown",
   "metadata": {},
   "source": [
    "**Data Preparation**\n",
    "The data preparation process involves several steps:\n",
    "\n",
    "**county:** Name of the county\n",
    "\n",
    "gallons_from_great_lakes, gallons_from_groundwater, gallons_from_inland_surface, \n",
    "\n",
    "**total_gallons_all_sources:** Water usage from different sources\n",
    "\n",
    "**industry:** The industry using the water\n",
    "\n",
    "**year:** The year of the data\n",
    "\n",
    "We'll preprocess the dataset for anomaly detection"
   ]
  },
  {
   "cell_type": "code",
   "execution_count": 2,
   "metadata": {},
   "outputs": [
    {
     "data": {
      "text/html": [
       "<div>\n",
       "<style scoped>\n",
       "    .dataframe tbody tr th:only-of-type {\n",
       "        vertical-align: middle;\n",
       "    }\n",
       "\n",
       "    .dataframe tbody tr th {\n",
       "        vertical-align: top;\n",
       "    }\n",
       "\n",
       "    .dataframe thead th {\n",
       "        text-align: right;\n",
       "    }\n",
       "</style>\n",
       "<table border=\"1\" class=\"dataframe\">\n",
       "  <thead>\n",
       "    <tr style=\"text-align: right;\">\n",
       "      <th></th>\n",
       "      <th>Unnamed: 0</th>\n",
       "      <th>county</th>\n",
       "      <th>gallons_from_great_lakes</th>\n",
       "      <th>gallons_from_groundwater</th>\n",
       "      <th>gallons_from_inland_surface</th>\n",
       "      <th>total_gallons_all_sources</th>\n",
       "      <th>industry</th>\n",
       "      <th>year</th>\n",
       "    </tr>\n",
       "  </thead>\n",
       "  <tbody>\n",
       "    <tr>\n",
       "      <th>0</th>\n",
       "      <td>0</td>\n",
       "      <td>Alcona</td>\n",
       "      <td>0</td>\n",
       "      <td>2666085962</td>\n",
       "      <td>4695086047</td>\n",
       "      <td>7361172009</td>\n",
       "      <td>Total All Sectors</td>\n",
       "      <td>2014</td>\n",
       "    </tr>\n",
       "    <tr>\n",
       "      <th>1</th>\n",
       "      <td>1</td>\n",
       "      <td>Alger</td>\n",
       "      <td>1512160000</td>\n",
       "      <td>1608226431</td>\n",
       "      <td>799089999</td>\n",
       "      <td>3919476431</td>\n",
       "      <td>Total All Sectors</td>\n",
       "      <td>2014</td>\n",
       "    </tr>\n",
       "    <tr>\n",
       "      <th>2</th>\n",
       "      <td>2</td>\n",
       "      <td>Allegan</td>\n",
       "      <td>0</td>\n",
       "      <td>5552539983</td>\n",
       "      <td>3784550040</td>\n",
       "      <td>9337090023</td>\n",
       "      <td>Total All Sectors</td>\n",
       "      <td>2014</td>\n",
       "    </tr>\n",
       "    <tr>\n",
       "      <th>3</th>\n",
       "      <td>3</td>\n",
       "      <td>Alpena</td>\n",
       "      <td>40839120000</td>\n",
       "      <td>10948600250</td>\n",
       "      <td>2532270000</td>\n",
       "      <td>54319990250</td>\n",
       "      <td>Total All Sectors</td>\n",
       "      <td>2014</td>\n",
       "    </tr>\n",
       "    <tr>\n",
       "      <th>4</th>\n",
       "      <td>4</td>\n",
       "      <td>Antrim</td>\n",
       "      <td>0</td>\n",
       "      <td>12214548686</td>\n",
       "      <td>54526097</td>\n",
       "      <td>12269074783</td>\n",
       "      <td>Total All Sectors</td>\n",
       "      <td>2014</td>\n",
       "    </tr>\n",
       "  </tbody>\n",
       "</table>\n",
       "</div>"
      ],
      "text/plain": [
       "   Unnamed: 0   county  gallons_from_great_lakes  gallons_from_groundwater  \\\n",
       "0           0   Alcona                         0                2666085962   \n",
       "1           1    Alger                1512160000                1608226431   \n",
       "2           2  Allegan                         0                5552539983   \n",
       "3           3   Alpena               40839120000               10948600250   \n",
       "4           4   Antrim                         0               12214548686   \n",
       "\n",
       "   gallons_from_inland_surface  total_gallons_all_sources           industry  \\\n",
       "0                   4695086047                 7361172009  Total All Sectors   \n",
       "1                    799089999                 3919476431  Total All Sectors   \n",
       "2                   3784550040                 9337090023  Total All Sectors   \n",
       "3                   2532270000                54319990250  Total All Sectors   \n",
       "4                     54526097                12269074783  Total All Sectors   \n",
       "\n",
       "   year  \n",
       "0  2014  \n",
       "1  2014  \n",
       "2  2014  \n",
       "3  2014  \n",
       "4  2014  "
      ]
     },
     "execution_count": 2,
     "metadata": {},
     "output_type": "execute_result"
    }
   ],
   "source": [
    "data.head()"
   ]
  },
  {
   "cell_type": "markdown",
   "metadata": {},
   "source": [
    "### One-Class SVM for Anomaly Detection\n",
    "\n",
    "One-Class SVM (Support Vector Machine) is a machine learning algorithm designed for unsupervised anomaly detection. It is particularly useful when the dataset contains mostly normal data with a few anomalies. The algorithm tries to distinguish the normal instances from the anomalies by learning a decision boundary that tightly encloses the normal data points."
   ]
  },
  {
   "cell_type": "markdown",
   "metadata": {},
   "source": [
    "### How One-Class SVM Works:\n",
    "\n",
    "**Training Phase:** One-Class SVM models are trained on normal data (in our case, water usage data from counties). The model learns a boundary that captures the majority of data points.\n",
    "\n",
    "**Anomaly Detection:** After training, when the model is applied to new data, it classifies each data point as either normal or anomalous based on whether it falls inside or outside the learned boundary. Data points that lie outside this boundary are considered anomalies."
   ]
  },
  {
   "cell_type": "code",
   "execution_count": 3,
   "metadata": {},
   "outputs": [
    {
     "name": "stdout",
     "output_type": "stream",
     "text": [
      "       county  year             industry  total_gallons_all_sources  \\\n",
      "3      Alpena  2014    Total All Sectors                54319990250   \n",
      "4      Antrim  2014    Total All Sectors                12269074783   \n",
      "8         Bay  2014    Total All Sectors               216092249186   \n",
      "10    Berrien  2014    Total All Sectors               791848178416   \n",
      "13       Cass  2014    Total All Sectors                14040909058   \n",
      "...       ...   ...                  ...                        ...   \n",
      "6542  Tuscola  2020                Other                          0   \n",
      "6546  Wexford  2020                Other                      63450   \n",
      "6579   Ingham  2020  Public Water Supply                10671840674   \n",
      "6609  Oakland  2020  Public Water Supply                 7975141709   \n",
      "6628    Wayne  2020  Public Water Supply               161178737000   \n",
      "\n",
      "      anomaly_svm  \n",
      "3              -1  \n",
      "4              -1  \n",
      "8              -1  \n",
      "10             -1  \n",
      "13             -1  \n",
      "...           ...  \n",
      "6542           -1  \n",
      "6546           -1  \n",
      "6579           -1  \n",
      "6609           -1  \n",
      "6628           -1  \n",
      "\n",
      "[2283 rows x 5 columns]\n",
      "SVM anomaly detection results saved to 'svm_anomalies_water_usage.csv'\n"
     ]
    }
   ],
   "source": [
    "from sklearn.svm import OneClassSVM\n",
    "\n",
    "# Train the One-Class SVM model\n",
    "svm_model = OneClassSVM(nu=0.05, kernel='rbf', gamma=0.1)\n",
    "data['anomaly_svm'] = svm_model.fit_predict(X_scaled)\n",
    "\n",
    "# Anomalies are marked as -1\n",
    "svm_anomalies = data[data['anomaly_svm'] == -1]\n",
    "\n",
    "# Display SVM anomalies\n",
    "print(svm_anomalies[['county', 'year', 'industry', 'total_gallons_all_sources', 'anomaly_svm']])\n",
    "\n",
    "# Save the SVM anomalies to a CSV file\n",
    "svm_anomalies.to_csv('svm_anomalies_water_usage.csv', index=False)\n",
    "print(\"SVM anomaly detection results saved to 'svm_anomalies_water_usage.csv'\")\n"
   ]
  },
  {
   "cell_type": "code",
   "execution_count": 4,
   "metadata": {},
   "outputs": [
    {
     "data": {
      "image/png": "[encoded data removed]",
      "text/plain": [
       "<Figure size 640x480 with 1 Axes>"
      ]
     },
     "metadata": {},
     "output_type": "display_data"
    },
    {
     "data": {
      "image/png": "[encoded data removed]",
      "text/plain": [
       "<Figure size 640x480 with 1 Axes>"
      ]
     },
     "metadata": {},
     "output_type": "display_data"
    }
   ],
   "source": [
    "import seaborn as sns\n",
    "import matplotlib.pyplot as plt\n",
    "\n",
    "# Plot anomalies over the years\n",
    "sns.countplot(x='year', data=svm_anomalies)\n",
    "plt.title('Number of Anomalies Detected per Year')\n",
    "plt.show()\n",
    "\n",
    "# Plot anomalies per industry\n",
    "sns.countplot(x='industry', data=svm_anomalies)\n",
    "plt.title('Number of Anomalies Detected per Industry')\n",
    "plt.show()\n"
   ]
  },
  {
   "cell_type": "code",
   "execution_count": 13,
   "metadata": {},
   "outputs": [
    {
     "name": "stdout",
     "output_type": "stream",
     "text": [
      "* Running on local URL:  http://127.0.0.1:7864\n",
      "\n",
      "To create a public link, set `share=True` in `launch()`.\n"
     ]
    },
    {
     "data": {
      "text/html": [
       "<div><iframe src=\"http://127.0.0.1:7864/\" width=\"100%\" height=\"500\" allow=\"autoplay; camera; microphone; clipboard-read; clipboard-write;\" frameborder=\"0\" allowfullscreen></iframe></div>"
      ],
      "text/plain": [
       "<IPython.core.display.HTML object>"
      ]
     },
     "metadata": {},
     "output_type": "display_data"
    },
    {
     "data": {
      "text/plain": []
     },
     "execution_count": 13,
     "metadata": {},
     "output_type": "execute_result"
    }
   ],
   "source": [
    "\n",
    "def detect_svm_anomalies(county, year):\n",
    "    # Filter data based on the selected county and year\n",
    "    selected_data = data[(data['county'] == county) & (data['year'] == year)]\n",
    "    \n",
    "    # Check if any anomalies are detected in the filtered data\n",
    "    anomalies = selected_data[selected_data['anomaly_svm'] == -1]\n",
    "    \n",
    "    if len(anomalies) > 0:\n",
    "        return f\"Anomalies detected in {len(anomalies)} instances for {county} in {year}.\"\n",
    "    else:\n",
    "        return f\"No anomalies detected for {county} in {year}.\"\n",
    "\n",
    "# Convert the year column to int to avoid the int64 serialization issue\n",
    "min_year = int(data['year'].min())\n",
    "max_year = int(data['year'].max())\n",
    "\n",
    "# Create the Gradio interface\n",
    "interface = gr.Interface(\n",
    "    fn=detect_svm_anomalies,\n",
    "    inputs=[\n",
    "        gr.Textbox(label=\"County Name\"),\n",
    "        gr.Slider(minimum=min_year, maximum=max_year, step=1, label=\"Year\")\n",
    "    ],\n",
    "    outputs=gr.Textbox(label=\"Anomaly Detection Result\"),\n",
    "    title=\"Water Usage Anomaly Detection using One-Class SVM\",\n",
    "    description=\"Select a county and year to detect anomalies in water consumption based on One-Class SVM.\"\n",
    ")\n",
    "\n",
    "# Launch the Gradio interface\n",
    "interface.launch()\n"
   ]
  },
  {
   "cell_type": "code",
   "execution_count": 1,
   "metadata": {},
   "outputs": [
    {
     "ename": "ModuleNotFoundError",
     "evalue": "No module named 'sklearn'",
     "output_type": "error",
     "traceback": [
      "\u001b[0;31m---------------------------------------------------------------------------\u001b[0m",
      "\u001b[0;31mModuleNotFoundError\u001b[0m                       Traceback (most recent call last)",
      "Cell \u001b[0;32mIn[1], line 1\u001b[0m\n\u001b[0;32m----> 1\u001b[0m \u001b[38;5;28;01mfrom\u001b[39;00m \u001b[38;5;21;01msklearn\u001b[39;00m\u001b[38;5;21;01m.\u001b[39;00m\u001b[38;5;21;01mmetrics\u001b[39;00m \u001b[38;5;28;01mimport\u001b[39;00m confusion_matrix, ConfusionMatrixDisplay\n\u001b[1;32m      2\u001b[0m \u001b[38;5;28;01mimport\u001b[39;00m \u001b[38;5;21;01mmatplotlib\u001b[39;00m\u001b[38;5;21;01m.\u001b[39;00m\u001b[38;5;21;01mpyplot\u001b[39;00m \u001b[38;5;28;01mas\u001b[39;00m \u001b[38;5;21;01mplt\u001b[39;00m\n\u001b[1;32m      4\u001b[0m \u001b[38;5;66;03m# Example: true labels and predictions\u001b[39;00m\n",
      "\u001b[0;31mModuleNotFoundError\u001b[0m: No module named 'sklearn'"
     ]
    }
   ],
   "source": [
    "from sklearn.metrics import confusion_matrix, ConfusionMatrixDisplay\n",
    "import matplotlib.pyplot as plt\n",
    "\n",
    "# Example: true labels and predictions\n",
    "true_labels = [1, 0, 0, 1, 1, 0]  # 1 for anomaly, 0 for normal\n",
    "predictions = [1, 0, 0, 1, 0, 0]  # Model predictions\n",
    "\n",
    "cm = confusion_matrix(true_labels, predictions)\n",
    "disp = ConfusionMatrixDisplay(confusion_matrix=cm)\n",
    "disp.plot(cmap=plt.cm.Blues)\n",
    "plt.title('Confusion Matrix')\n",
    "plt.show()\n"
   ]
  },
  {
   "cell_type": "code",
   "execution_count": null,
   "metadata": {},
   "outputs": [],
   "source": [
    "pip install "
   ]
  }
 ],
 "metadata": {
  "kernelspec": {
   "display_name": "Python 3",
   "language": "python",
   "name": "python3"
  },
  "language_info": {
   "codemirror_mode": {
    "name": "ipython",
    "version": 3
   },
   "file_extension": ".py",
   "mimetype": "text/x-python",
   "name": "python",
   "nbconvert_exporter": "python",
   "pygments_lexer": "ipython3",
   "version": "3.12.5"
  }
 },
 "nbformat": 4,
 "nbformat_minor": 2
}
